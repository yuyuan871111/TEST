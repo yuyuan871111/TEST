{
 "cells": [
  {
   "cell_type": "code",
   "execution_count": 2,
   "metadata": {},
   "outputs": [],
   "source": [
    "import numpy as np\n",
    "%matplotlib inline\n",
    "import matplotlib.pyplot as plt"
   ]
  },
  {
   "cell_type": "code",
   "execution_count": 3,
   "metadata": {},
   "outputs": [
    {
     "data": {
      "text/plain": [
       "3.141592653589793"
      ]
     },
     "execution_count": 3,
     "metadata": {},
     "output_type": "execute_result"
    }
   ],
   "source": [
    "np.pi"
   ]
  },
  {
   "cell_type": "code",
   "execution_count": 4,
   "metadata": {},
   "outputs": [
    {
     "data": {
      "text/plain": [
       "[<matplotlib.lines.Line2D at 0x1169f5e10>]"
      ]
     },
     "execution_count": 4,
     "metadata": {},
     "output_type": "execute_result"
    },
    {
     "data": {
      "image/png": "[encoded data removed]",
      "text/plain": [
       "<Figure size 432x288 with 1 Axes>"
      ]
     },
     "metadata": {},
     "output_type": "display_data"
    }
   ],
   "source": [
    "plt.plot( range(10) )"
   ]
  },
  {
   "cell_type": "markdown",
   "metadata": {},
   "source": [
    "# 處理一整個 list 數字"
   ]
  },
  {
   "cell_type": "code",
   "execution_count": 5,
   "metadata": {},
   "outputs": [],
   "source": [
    "p = [1096.95, 596.95, 896.95]"
   ]
  },
  {
   "cell_type": "code",
   "execution_count": 6,
   "metadata": {},
   "outputs": [],
   "source": [
    "c = 30.1"
   ]
  },
  {
   "cell_type": "code",
   "execution_count": 7,
   "metadata": {
    "scrolled": true
   },
   "outputs": [
    {
     "name": "stdout",
     "output_type": "stream",
     "text": [
      "33018.195\n",
      "17968.195000000003\n",
      "26998.195000000003\n"
     ]
    }
   ],
   "source": [
    "for k in p:\n",
    "    print(k*c)"
   ]
  },
  {
   "cell_type": "markdown",
   "metadata": {},
   "source": [
    "## 算出來的東西放進list\n",
    "善用append"
   ]
  },
  {
   "cell_type": "code",
   "execution_count": 8,
   "metadata": {},
   "outputs": [],
   "source": [
    "result = [ ]"
   ]
  },
  {
   "cell_type": "code",
   "execution_count": 9,
   "metadata": {},
   "outputs": [],
   "source": [
    "for k in p:\n",
    "    twd = k*c\n",
    "    result.append(twd)"
   ]
  },
  {
   "cell_type": "code",
   "execution_count": 10,
   "metadata": {},
   "outputs": [
    {
     "data": {
      "text/plain": [
       "[33018.195, 17968.195000000003, 26998.195000000003]"
      ]
     },
     "execution_count": 10,
     "metadata": {},
     "output_type": "execute_result"
    }
   ],
   "source": [
    "result"
   ]
  },
  {
   "cell_type": "markdown",
   "metadata": {},
   "source": [
    "# Array"
   ]
  },
  {
   "cell_type": "markdown",
   "metadata": {},
   "source": [
    "數據分析盡量不要用迴圈（速度因素），儘量用array"
   ]
  },
  {
   "cell_type": "code",
   "execution_count": 14,
   "metadata": {},
   "outputs": [],
   "source": [
    "import numpy as np\n",
    "%matplotlib inline\n",
    "import matplotlib.pyplot as plt"
   ]
  },
  {
   "cell_type": "code",
   "execution_count": 15,
   "metadata": {},
   "outputs": [],
   "source": [
    "p = [1096.95, 596.95, 896.95]"
   ]
  },
  {
   "cell_type": "code",
   "execution_count": 16,
   "metadata": {},
   "outputs": [],
   "source": [
    "c = 30.1"
   ]
  },
  {
   "cell_type": "code",
   "execution_count": 17,
   "metadata": {},
   "outputs": [],
   "source": [
    "prices = np.array(p)"
   ]
  },
  {
   "cell_type": "code",
   "execution_count": 18,
   "metadata": {},
   "outputs": [
    {
     "data": {
      "text/plain": [
       "array([1096.95,  596.95,  896.95])"
      ]
     },
     "execution_count": 18,
     "metadata": {},
     "output_type": "execute_result"
    }
   ],
   "source": [
    "prices"
   ]
  },
  {
   "cell_type": "code",
   "execution_count": 19,
   "metadata": {},
   "outputs": [
    {
     "name": "stdout",
     "output_type": "stream",
     "text": [
      "[1096.95  596.95  896.95]\n"
     ]
    }
   ],
   "source": [
    "print(prices)"
   ]
  },
  {
   "cell_type": "code",
   "execution_count": 20,
   "metadata": {},
   "outputs": [
    {
     "data": {
      "text/plain": [
       "array([33018.195, 17968.195, 26998.195])"
      ]
     },
     "execution_count": 20,
     "metadata": {},
     "output_type": "execute_result"
    }
   ],
   "source": [
    "prices * c"
   ]
  },
  {
   "cell_type": "markdown",
   "metadata": {},
   "source": [
    "## 算成績"
   ]
  },
  {
   "cell_type": "code",
   "execution_count": 21,
   "metadata": {},
   "outputs": [],
   "source": [
    " grades = np.array([85, 70, 82])"
   ]
  },
  {
   "cell_type": "code",
   "execution_count": 22,
   "metadata": {},
   "outputs": [],
   "source": [
    "weights = np.array([0.3, 0.4, 0.3])"
   ]
  },
  {
   "cell_type": "markdown",
   "metadata": {},
   "source": [
    "利用sum"
   ]
  },
  {
   "cell_type": "code",
   "execution_count": 25,
   "metadata": {},
   "outputs": [
    {
     "data": {
      "text/plain": [
       "78.1"
      ]
     },
     "execution_count": 25,
     "metadata": {},
     "output_type": "execute_result"
    }
   ],
   "source": [
    "sum( grades * weights ) "
   ]
  },
  {
   "cell_type": "code",
   "execution_count": 26,
   "metadata": {},
   "outputs": [],
   "source": [
    "g = grades * weights"
   ]
  },
  {
   "cell_type": "code",
   "execution_count": 27,
   "metadata": {},
   "outputs": [
    {
     "data": {
      "text/plain": [
       "78.1"
      ]
     },
     "execution_count": 27,
     "metadata": {},
     "output_type": "execute_result"
    }
   ],
   "source": [
    "g.sum()"
   ]
  },
  {
   "cell_type": "markdown",
   "metadata": {},
   "source": [
    "利用dot"
   ]
  },
  {
   "cell_type": "code",
   "execution_count": 30,
   "metadata": {},
   "outputs": [
    {
     "data": {
      "text/plain": [
       "78.1"
      ]
     },
     "execution_count": 30,
     "metadata": {},
     "output_type": "execute_result"
    }
   ],
   "source": [
    "np.dot( grades, weights )"
   ]
  },
  {
   "cell_type": "code",
   "execution_count": 31,
   "metadata": {},
   "outputs": [],
   "source": [
    "%matplotlib inline\n",
    "import numpy as np\n",
    "import matplotlib.pyplot as plt"
   ]
  },
  {
   "cell_type": "code",
   "execution_count": 32,
   "metadata": {},
   "outputs": [],
   "source": [
    "grades = np.array([[85, 70, 82], \n",
    "                          [75, 92, 85],\n",
    "                          [66, 67, 64],\n",
    "                          [87, 94, 60]])"
   ]
  },
  {
   "cell_type": "code",
   "execution_count": 33,
   "metadata": {},
   "outputs": [
    {
     "data": {
      "text/plain": [
       "array([[85, 70, 82],\n",
       "       [75, 92, 85],\n",
       "       [66, 67, 64],\n",
       "       [87, 94, 60]])"
      ]
     },
     "execution_count": 33,
     "metadata": {},
     "output_type": "execute_result"
    }
   ],
   "source": [
    "grades"
   ]
  },
  {
   "cell_type": "code",
   "execution_count": 34,
   "metadata": {},
   "outputs": [],
   "source": [
    "weights = np.array([0.3, 0.4, 0.3])"
   ]
  },
  {
   "cell_type": "code",
   "execution_count": 35,
   "metadata": {},
   "outputs": [
    {
     "data": {
      "text/plain": [
       "array([78.1, 84.8, 65.8, 81.7])"
      ]
     },
     "execution_count": 35,
     "metadata": {},
     "output_type": "execute_result"
    }
   ],
   "source": [
    "np.dot(grades, weights)"
   ]
  },
  {
   "cell_type": "code",
   "execution_count": 38,
   "metadata": {},
   "outputs": [
    {
     "data": {
      "text/plain": [
       "array([[25.5, 28. , 24.6],\n",
       "       [22.5, 36.8, 25.5],\n",
       "       [19.8, 26.8, 19.2],\n",
       "       [26.1, 37.6, 18. ]])"
      ]
     },
     "execution_count": 38,
     "metadata": {},
     "output_type": "execute_result"
    }
   ],
   "source": [
    "grades * weights"
   ]
  },
  {
   "cell_type": "code",
   "execution_count": 40,
   "metadata": {},
   "outputs": [
    {
     "data": {
      "text/plain": [
       "array([ 93.9, 129.2,  87.3])"
      ]
     },
     "execution_count": 40,
     "metadata": {},
     "output_type": "execute_result"
    }
   ],
   "source": [
    "sum (grades * weights)"
   ]
  },
  {
   "cell_type": "markdown",
   "metadata": {},
   "source": [
    "## 算學期GPA"
   ]
  },
  {
   "cell_type": "code",
   "execution_count": 107,
   "metadata": {},
   "outputs": [
    {
     "name": "stdout",
     "output_type": "stream",
     "text": [
      "GPA(credits) \n",
      "A+ A A-   B+ B B-   C+ C C-   F \n",
      "12 7 3 0 3 0 0 0 0 0\n"
     ]
    },
    {
     "data": {
      "text/plain": [
       "3.9879999999999995"
      ]
     },
     "execution_count": 107,
     "metadata": {},
     "output_type": "execute_result"
    }
   ],
   "source": [
    "%matplotlib inline\n",
    "import numpy as np\n",
    "import matplotlib.pyplot as plt\n",
    "\n",
    "print(\"GPA(credits) \")\n",
    "print(\"A+ A A-   B+ B B-   C+ C C-   F \")\n",
    "grades = np.array( list(map(int, input().split())) )\n",
    "weights = np.array( [ 4.3, 4.0, 3.7, 3.3, 3.0, 2.7, 2.3, 2.0, 1.7, 0] )\n",
    "np.dot(grades, weights)/sum(grades)"
   ]
  },
  {
   "cell_type": "markdown",
   "metadata": {},
   "source": [
    "## Array 大變身"
   ]
  },
  {
   "cell_type": "code",
   "execution_count": 54,
   "metadata": {},
   "outputs": [],
   "source": [
    "A = np.random.randn(100)"
   ]
  },
  {
   "cell_type": "code",
   "execution_count": 56,
   "metadata": {},
   "outputs": [],
   "source": [
    "A = 10* A +50"
   ]
  },
  {
   "cell_type": "code",
   "execution_count": 57,
   "metadata": {},
   "outputs": [
    {
     "data": {
      "text/plain": [
       "array([70.73248422, 62.10498172, 50.45457326, 55.45067361, 58.42210484,\n",
       "       45.39489517, 33.54646815, 51.52107767, 33.57098082, 39.60245092,\n",
       "       56.70104868, 34.49636758, 49.34534975, 39.09809489, 52.32985673,\n",
       "       54.15821154, 39.07183816, 40.31564358, 45.91800555, 62.85677162,\n",
       "       62.1685512 , 51.91257041, 26.78195132, 67.66449376, 39.24131498,\n",
       "       41.64446993, 59.58979022, 47.46119665, 55.71253032, 48.38023033,\n",
       "       61.17855353, 36.52788251, 38.40732999, 50.52650765, 49.25857461,\n",
       "       46.48382914, 41.70894462, 75.33236289, 52.44518127, 63.00964014,\n",
       "       48.53883845, 55.08341889, 38.50886206, 56.53781213, 43.6826328 ,\n",
       "       59.86614057, 59.45734932, 61.75318091, 41.0618697 , 44.20698176,\n",
       "       50.935214  , 54.17293356, 47.75291151, 31.40563797, 51.09159456,\n",
       "       45.913295  , 51.96217585, 57.91044594, 45.23134429, 41.94351808,\n",
       "       40.08911874, 48.62412683, 44.85634827, 45.8800981 , 56.59514758,\n",
       "       58.40729849, 39.78943412, 50.93581603, 49.38763927, 43.01106415,\n",
       "       40.11639927, 40.39117043, 29.13493078, 48.05580918, 65.96200611,\n",
       "       49.66336688, 51.45262633, 56.2576704 , 67.54737738, 54.09420433,\n",
       "       43.32043466, 41.43176403, 55.08746256, 58.24776024, 48.46684826,\n",
       "       38.08090836, 58.26804255, 41.33425655, 55.29021667, 32.61383047,\n",
       "       53.13044503, 52.23152529, 50.66110342, 53.07726864, 39.05626451,\n",
       "       43.65034022, 53.25892039, 56.58834429, 48.26193335, 48.32425267])"
      ]
     },
     "execution_count": 57,
     "metadata": {},
     "output_type": "execute_result"
    }
   ],
   "source": [
    "A"
   ]
  },
  {
   "cell_type": "code",
   "execution_count": 58,
   "metadata": {},
   "outputs": [
    {
     "data": {
      "text/plain": [
       "(100,)"
      ]
     },
     "execution_count": 58,
     "metadata": {},
     "output_type": "execute_result"
    }
   ],
   "source": [
    "A.shape"
   ]
  },
  {
   "cell_type": "code",
   "execution_count": 59,
   "metadata": {},
   "outputs": [],
   "source": [
    "A.shape = (5, 20)"
   ]
  },
  {
   "cell_type": "code",
   "execution_count": 60,
   "metadata": {},
   "outputs": [
    {
     "data": {
      "text/plain": [
       "array([[70.73248422, 62.10498172, 50.45457326, 55.45067361, 58.42210484,\n",
       "        45.39489517, 33.54646815, 51.52107767, 33.57098082, 39.60245092,\n",
       "        56.70104868, 34.49636758, 49.34534975, 39.09809489, 52.32985673,\n",
       "        54.15821154, 39.07183816, 40.31564358, 45.91800555, 62.85677162],\n",
       "       [62.1685512 , 51.91257041, 26.78195132, 67.66449376, 39.24131498,\n",
       "        41.64446993, 59.58979022, 47.46119665, 55.71253032, 48.38023033,\n",
       "        61.17855353, 36.52788251, 38.40732999, 50.52650765, 49.25857461,\n",
       "        46.48382914, 41.70894462, 75.33236289, 52.44518127, 63.00964014],\n",
       "       [48.53883845, 55.08341889, 38.50886206, 56.53781213, 43.6826328 ,\n",
       "        59.86614057, 59.45734932, 61.75318091, 41.0618697 , 44.20698176,\n",
       "        50.935214  , 54.17293356, 47.75291151, 31.40563797, 51.09159456,\n",
       "        45.913295  , 51.96217585, 57.91044594, 45.23134429, 41.94351808],\n",
       "       [40.08911874, 48.62412683, 44.85634827, 45.8800981 , 56.59514758,\n",
       "        58.40729849, 39.78943412, 50.93581603, 49.38763927, 43.01106415,\n",
       "        40.11639927, 40.39117043, 29.13493078, 48.05580918, 65.96200611,\n",
       "        49.66336688, 51.45262633, 56.2576704 , 67.54737738, 54.09420433],\n",
       "       [43.32043466, 41.43176403, 55.08746256, 58.24776024, 48.46684826,\n",
       "        38.08090836, 58.26804255, 41.33425655, 55.29021667, 32.61383047,\n",
       "        53.13044503, 52.23152529, 50.66110342, 53.07726864, 39.05626451,\n",
       "        43.65034022, 53.25892039, 56.58834429, 48.26193335, 48.32425267]])"
      ]
     },
     "execution_count": 60,
     "metadata": {},
     "output_type": "execute_result"
    }
   ],
   "source": [
    "A"
   ]
  },
  {
   "cell_type": "markdown",
   "metadata": {},
   "source": [
    "#### reshape 不會改變原本array的形狀"
   ]
  },
  {
   "cell_type": "code",
   "execution_count": 61,
   "metadata": {
    "scrolled": true
   },
   "outputs": [
    {
     "data": {
      "text/plain": [
       "array([[70.73248422],\n",
       "       [62.10498172],\n",
       "       [50.45457326],\n",
       "       [55.45067361],\n",
       "       [58.42210484],\n",
       "       [45.39489517],\n",
       "       [33.54646815],\n",
       "       [51.52107767],\n",
       "       [33.57098082],\n",
       "       [39.60245092],\n",
       "       [56.70104868],\n",
       "       [34.49636758],\n",
       "       [49.34534975],\n",
       "       [39.09809489],\n",
       "       [52.32985673],\n",
       "       [54.15821154],\n",
       "       [39.07183816],\n",
       "       [40.31564358],\n",
       "       [45.91800555],\n",
       "       [62.85677162],\n",
       "       [62.1685512 ],\n",
       "       [51.91257041],\n",
       "       [26.78195132],\n",
       "       [67.66449376],\n",
       "       [39.24131498],\n",
       "       [41.64446993],\n",
       "       [59.58979022],\n",
       "       [47.46119665],\n",
       "       [55.71253032],\n",
       "       [48.38023033],\n",
       "       [61.17855353],\n",
       "       [36.52788251],\n",
       "       [38.40732999],\n",
       "       [50.52650765],\n",
       "       [49.25857461],\n",
       "       [46.48382914],\n",
       "       [41.70894462],\n",
       "       [75.33236289],\n",
       "       [52.44518127],\n",
       "       [63.00964014],\n",
       "       [48.53883845],\n",
       "       [55.08341889],\n",
       "       [38.50886206],\n",
       "       [56.53781213],\n",
       "       [43.6826328 ],\n",
       "       [59.86614057],\n",
       "       [59.45734932],\n",
       "       [61.75318091],\n",
       "       [41.0618697 ],\n",
       "       [44.20698176],\n",
       "       [50.935214  ],\n",
       "       [54.17293356],\n",
       "       [47.75291151],\n",
       "       [31.40563797],\n",
       "       [51.09159456],\n",
       "       [45.913295  ],\n",
       "       [51.96217585],\n",
       "       [57.91044594],\n",
       "       [45.23134429],\n",
       "       [41.94351808],\n",
       "       [40.08911874],\n",
       "       [48.62412683],\n",
       "       [44.85634827],\n",
       "       [45.8800981 ],\n",
       "       [56.59514758],\n",
       "       [58.40729849],\n",
       "       [39.78943412],\n",
       "       [50.93581603],\n",
       "       [49.38763927],\n",
       "       [43.01106415],\n",
       "       [40.11639927],\n",
       "       [40.39117043],\n",
       "       [29.13493078],\n",
       "       [48.05580918],\n",
       "       [65.96200611],\n",
       "       [49.66336688],\n",
       "       [51.45262633],\n",
       "       [56.2576704 ],\n",
       "       [67.54737738],\n",
       "       [54.09420433],\n",
       "       [43.32043466],\n",
       "       [41.43176403],\n",
       "       [55.08746256],\n",
       "       [58.24776024],\n",
       "       [48.46684826],\n",
       "       [38.08090836],\n",
       "       [58.26804255],\n",
       "       [41.33425655],\n",
       "       [55.29021667],\n",
       "       [32.61383047],\n",
       "       [53.13044503],\n",
       "       [52.23152529],\n",
       "       [50.66110342],\n",
       "       [53.07726864],\n",
       "       [39.05626451],\n",
       "       [43.65034022],\n",
       "       [53.25892039],\n",
       "       [56.58834429],\n",
       "       [48.26193335],\n",
       "       [48.32425267]])"
      ]
     },
     "execution_count": 61,
     "metadata": {},
     "output_type": "execute_result"
    }
   ],
   "source": [
    "A.reshape(100, 1)"
   ]
  },
  {
   "cell_type": "code",
   "execution_count": 62,
   "metadata": {},
   "outputs": [
    {
     "data": {
      "text/plain": [
       "array([[70.73248422, 62.10498172, 50.45457326, 55.45067361, 58.42210484,\n",
       "        45.39489517, 33.54646815, 51.52107767, 33.57098082, 39.60245092,\n",
       "        56.70104868, 34.49636758, 49.34534975, 39.09809489, 52.32985673,\n",
       "        54.15821154, 39.07183816, 40.31564358, 45.91800555, 62.85677162],\n",
       "       [62.1685512 , 51.91257041, 26.78195132, 67.66449376, 39.24131498,\n",
       "        41.64446993, 59.58979022, 47.46119665, 55.71253032, 48.38023033,\n",
       "        61.17855353, 36.52788251, 38.40732999, 50.52650765, 49.25857461,\n",
       "        46.48382914, 41.70894462, 75.33236289, 52.44518127, 63.00964014],\n",
       "       [48.53883845, 55.08341889, 38.50886206, 56.53781213, 43.6826328 ,\n",
       "        59.86614057, 59.45734932, 61.75318091, 41.0618697 , 44.20698176,\n",
       "        50.935214  , 54.17293356, 47.75291151, 31.40563797, 51.09159456,\n",
       "        45.913295  , 51.96217585, 57.91044594, 45.23134429, 41.94351808],\n",
       "       [40.08911874, 48.62412683, 44.85634827, 45.8800981 , 56.59514758,\n",
       "        58.40729849, 39.78943412, 50.93581603, 49.38763927, 43.01106415,\n",
       "        40.11639927, 40.39117043, 29.13493078, 48.05580918, 65.96200611,\n",
       "        49.66336688, 51.45262633, 56.2576704 , 67.54737738, 54.09420433],\n",
       "       [43.32043466, 41.43176403, 55.08746256, 58.24776024, 48.46684826,\n",
       "        38.08090836, 58.26804255, 41.33425655, 55.29021667, 32.61383047,\n",
       "        53.13044503, 52.23152529, 50.66110342, 53.07726864, 39.05626451,\n",
       "        43.65034022, 53.25892039, 56.58834429, 48.26193335, 48.32425267]])"
      ]
     },
     "execution_count": 62,
     "metadata": {},
     "output_type": "execute_result"
    }
   ],
   "source": [
    "A"
   ]
  },
  {
   "cell_type": "code",
   "execution_count": 63,
   "metadata": {},
   "outputs": [],
   "source": [
    "A = A.reshape(100, 1)"
   ]
  },
  {
   "cell_type": "code",
   "execution_count": 64,
   "metadata": {
    "scrolled": true
   },
   "outputs": [
    {
     "data": {
      "text/plain": [
       "array([[70.73248422],\n",
       "       [62.10498172],\n",
       "       [50.45457326],\n",
       "       [55.45067361],\n",
       "       [58.42210484],\n",
       "       [45.39489517],\n",
       "       [33.54646815],\n",
       "       [51.52107767],\n",
       "       [33.57098082],\n",
       "       [39.60245092],\n",
       "       [56.70104868],\n",
       "       [34.49636758],\n",
       "       [49.34534975],\n",
       "       [39.09809489],\n",
       "       [52.32985673],\n",
       "       [54.15821154],\n",
       "       [39.07183816],\n",
       "       [40.31564358],\n",
       "       [45.91800555],\n",
       "       [62.85677162],\n",
       "       [62.1685512 ],\n",
       "       [51.91257041],\n",
       "       [26.78195132],\n",
       "       [67.66449376],\n",
       "       [39.24131498],\n",
       "       [41.64446993],\n",
       "       [59.58979022],\n",
       "       [47.46119665],\n",
       "       [55.71253032],\n",
       "       [48.38023033],\n",
       "       [61.17855353],\n",
       "       [36.52788251],\n",
       "       [38.40732999],\n",
       "       [50.52650765],\n",
       "       [49.25857461],\n",
       "       [46.48382914],\n",
       "       [41.70894462],\n",
       "       [75.33236289],\n",
       "       [52.44518127],\n",
       "       [63.00964014],\n",
       "       [48.53883845],\n",
       "       [55.08341889],\n",
       "       [38.50886206],\n",
       "       [56.53781213],\n",
       "       [43.6826328 ],\n",
       "       [59.86614057],\n",
       "       [59.45734932],\n",
       "       [61.75318091],\n",
       "       [41.0618697 ],\n",
       "       [44.20698176],\n",
       "       [50.935214  ],\n",
       "       [54.17293356],\n",
       "       [47.75291151],\n",
       "       [31.40563797],\n",
       "       [51.09159456],\n",
       "       [45.913295  ],\n",
       "       [51.96217585],\n",
       "       [57.91044594],\n",
       "       [45.23134429],\n",
       "       [41.94351808],\n",
       "       [40.08911874],\n",
       "       [48.62412683],\n",
       "       [44.85634827],\n",
       "       [45.8800981 ],\n",
       "       [56.59514758],\n",
       "       [58.40729849],\n",
       "       [39.78943412],\n",
       "       [50.93581603],\n",
       "       [49.38763927],\n",
       "       [43.01106415],\n",
       "       [40.11639927],\n",
       "       [40.39117043],\n",
       "       [29.13493078],\n",
       "       [48.05580918],\n",
       "       [65.96200611],\n",
       "       [49.66336688],\n",
       "       [51.45262633],\n",
       "       [56.2576704 ],\n",
       "       [67.54737738],\n",
       "       [54.09420433],\n",
       "       [43.32043466],\n",
       "       [41.43176403],\n",
       "       [55.08746256],\n",
       "       [58.24776024],\n",
       "       [48.46684826],\n",
       "       [38.08090836],\n",
       "       [58.26804255],\n",
       "       [41.33425655],\n",
       "       [55.29021667],\n",
       "       [32.61383047],\n",
       "       [53.13044503],\n",
       "       [52.23152529],\n",
       "       [50.66110342],\n",
       "       [53.07726864],\n",
       "       [39.05626451],\n",
       "       [43.65034022],\n",
       "       [53.25892039],\n",
       "       [56.58834429],\n",
       "       [48.26193335],\n",
       "       [48.32425267]])"
      ]
     },
     "execution_count": 64,
     "metadata": {},
     "output_type": "execute_result"
    }
   ],
   "source": [
    "A"
   ]
  },
  {
   "cell_type": "markdown",
   "metadata": {},
   "source": [
    "### Array 快速生成法\n",
    "* list >> array\n",
    "* 0 array\n",
    "* 1 array\n",
    "* 單位矩陣"
   ]
  },
  {
   "cell_type": "code",
   "execution_count": 69,
   "metadata": {
    "scrolled": true
   },
   "outputs": [
    {
     "data": {
      "text/plain": [
       "array([[0, 0],\n",
       "       [0, 1],\n",
       "       [0, 2],\n",
       "       [0, 3],\n",
       "       [0, 4],\n",
       "       [1, 0],\n",
       "       [1, 1],\n",
       "       [1, 2],\n",
       "       [1, 3],\n",
       "       [1, 4],\n",
       "       [2, 0],\n",
       "       [2, 1],\n",
       "       [2, 2],\n",
       "       [2, 3],\n",
       "       [2, 4],\n",
       "       [3, 0],\n",
       "       [3, 1],\n",
       "       [3, 2],\n",
       "       [3, 3],\n",
       "       [3, 4],\n",
       "       [4, 0],\n",
       "       [4, 1],\n",
       "       [4, 2],\n",
       "       [4, 3],\n",
       "       [4, 4],\n",
       "       [5, 0],\n",
       "       [5, 1],\n",
       "       [5, 2],\n",
       "       [5, 3],\n",
       "       [5, 4],\n",
       "       [6, 0],\n",
       "       [6, 1],\n",
       "       [6, 2],\n",
       "       [6, 3],\n",
       "       [6, 4],\n",
       "       [7, 0],\n",
       "       [7, 1],\n",
       "       [7, 2],\n",
       "       [7, 3],\n",
       "       [7, 4],\n",
       "       [8, 0],\n",
       "       [8, 1],\n",
       "       [8, 2],\n",
       "       [8, 3],\n",
       "       [8, 4],\n",
       "       [9, 0],\n",
       "       [9, 1],\n",
       "       [9, 2],\n",
       "       [9, 3],\n",
       "       [9, 4]])"
      ]
     },
     "execution_count": 69,
     "metadata": {},
     "output_type": "execute_result"
    }
   ],
   "source": [
    "xy = [[x, y] for x in range(10) for y in range(5)]\n",
    "xy = np.array(xy)\n",
    "xy"
   ]
  },
  {
   "cell_type": "code",
   "execution_count": 70,
   "metadata": {},
   "outputs": [
    {
     "data": {
      "text/plain": [
       "array([0., 0., 0., 0., 0., 0., 0., 0., 0., 0.])"
      ]
     },
     "execution_count": 70,
     "metadata": {},
     "output_type": "execute_result"
    }
   ],
   "source": [
    "np.zeros(10)"
   ]
  },
  {
   "cell_type": "code",
   "execution_count": 71,
   "metadata": {},
   "outputs": [
    {
     "data": {
      "text/plain": [
       "array([[0., 0., 0., 0.],\n",
       "       [0., 0., 0., 0.],\n",
       "       [0., 0., 0., 0.]])"
      ]
     },
     "execution_count": 71,
     "metadata": {},
     "output_type": "execute_result"
    }
   ],
   "source": [
    "np.zeros([3,4])"
   ]
  },
  {
   "cell_type": "code",
   "execution_count": 76,
   "metadata": {},
   "outputs": [
    {
     "data": {
      "text/plain": [
       "array([[1., 1.],\n",
       "       [1., 1.],\n",
       "       [1., 1.]])"
      ]
     },
     "execution_count": 76,
     "metadata": {},
     "output_type": "execute_result"
    }
   ],
   "source": [
    "np.ones([3,2])"
   ]
  },
  {
   "cell_type": "code",
   "execution_count": 74,
   "metadata": {},
   "outputs": [
    {
     "data": {
      "text/plain": [
       "array([[1., 0., 0., 0., 0.],\n",
       "       [0., 1., 0., 0., 0.],\n",
       "       [0., 0., 1., 0., 0.],\n",
       "       [0., 0., 0., 1., 0.],\n",
       "       [0., 0., 0., 0., 1.]])"
      ]
     },
     "execution_count": 74,
     "metadata": {},
     "output_type": "execute_result"
    }
   ],
   "source": [
    "np.eye(5)"
   ]
  },
  {
   "cell_type": "markdown",
   "metadata": {},
   "source": [
    "## Array 畫圖"
   ]
  },
  {
   "cell_type": "code",
   "execution_count": 77,
   "metadata": {},
   "outputs": [
    {
     "data": {
      "text/plain": [
       "array([0.18266154, 0.35411488, 0.84283587, 0.69331991, 0.42710704,\n",
       "       0.41853405, 0.38753032, 0.41475764, 0.03762032, 0.88088195,\n",
       "       0.80829516, 0.4333669 , 0.74690163, 0.20107786, 0.1311604 ,\n",
       "       0.05972944, 0.50340136, 0.24920588, 0.92550294, 0.29590412,\n",
       "       0.73900004, 0.53075819, 0.92495234, 0.93357903, 0.19893969,\n",
       "       0.8750258 , 0.82397343, 0.515497  , 0.49648949, 0.0387057 ,\n",
       "       0.4327564 , 0.04281041, 0.29753353, 0.6810875 , 0.34533179,\n",
       "       0.74954899, 0.47080884, 0.39923401, 0.14288299, 0.52441405,\n",
       "       0.30081777, 0.76270109, 0.7140193 , 0.66327215, 0.11891078,\n",
       "       0.52292628, 0.50966364, 0.1549175 , 0.33623305, 0.85067265])"
      ]
     },
     "execution_count": 77,
     "metadata": {},
     "output_type": "execute_result"
    }
   ],
   "source": [
    "y = np.random.rand(50)\n",
    "y"
   ]
  },
  {
   "cell_type": "code",
   "execution_count": 78,
   "metadata": {},
   "outputs": [
    {
     "data": {
      "text/plain": [
       "[<matplotlib.lines.Line2D at 0x116f7f0f0>]"
      ]
     },
     "execution_count": 78,
     "metadata": {},
     "output_type": "execute_result"
    },
    {
     "data": {
      "image/png": "[encoded data removed]",
      "text/plain": [
       "<Figure size 432x288 with 1 Axes>"
      ]
     },
     "metadata": {},
     "output_type": "display_data"
    }
   ],
   "source": [
    "plt.plot(y)"
   ]
  },
  {
   "cell_type": "markdown",
   "metadata": {},
   "source": [
    "### 畫函數圖：描點法"
   ]
  },
  {
   "cell_type": "code",
   "execution_count": 81,
   "metadata": {},
   "outputs": [
    {
     "data": {
      "text/plain": [
       "array([ 0.        ,  0.1010101 ,  0.2020202 ,  0.3030303 ,  0.4040404 ,\n",
       "        0.50505051,  0.60606061,  0.70707071,  0.80808081,  0.90909091,\n",
       "        1.01010101,  1.11111111,  1.21212121,  1.31313131,  1.41414141,\n",
       "        1.51515152,  1.61616162,  1.71717172,  1.81818182,  1.91919192,\n",
       "        2.02020202,  2.12121212,  2.22222222,  2.32323232,  2.42424242,\n",
       "        2.52525253,  2.62626263,  2.72727273,  2.82828283,  2.92929293,\n",
       "        3.03030303,  3.13131313,  3.23232323,  3.33333333,  3.43434343,\n",
       "        3.53535354,  3.63636364,  3.73737374,  3.83838384,  3.93939394,\n",
       "        4.04040404,  4.14141414,  4.24242424,  4.34343434,  4.44444444,\n",
       "        4.54545455,  4.64646465,  4.74747475,  4.84848485,  4.94949495,\n",
       "        5.05050505,  5.15151515,  5.25252525,  5.35353535,  5.45454545,\n",
       "        5.55555556,  5.65656566,  5.75757576,  5.85858586,  5.95959596,\n",
       "        6.06060606,  6.16161616,  6.26262626,  6.36363636,  6.46464646,\n",
       "        6.56565657,  6.66666667,  6.76767677,  6.86868687,  6.96969697,\n",
       "        7.07070707,  7.17171717,  7.27272727,  7.37373737,  7.47474747,\n",
       "        7.57575758,  7.67676768,  7.77777778,  7.87878788,  7.97979798,\n",
       "        8.08080808,  8.18181818,  8.28282828,  8.38383838,  8.48484848,\n",
       "        8.58585859,  8.68686869,  8.78787879,  8.88888889,  8.98989899,\n",
       "        9.09090909,  9.19191919,  9.29292929,  9.39393939,  9.49494949,\n",
       "        9.5959596 ,  9.6969697 ,  9.7979798 ,  9.8989899 , 10.        ])"
      ]
     },
     "execution_count": 81,
     "metadata": {},
     "output_type": "execute_result"
    }
   ],
   "source": [
    "x = np.linspace(0, 10, 100)\n",
    "x"
   ]
  },
  {
   "cell_type": "code",
   "execution_count": 82,
   "metadata": {},
   "outputs": [
    {
     "data": {
      "text/plain": [
       "[<matplotlib.lines.Line2D at 0x116faaf60>]"
      ]
     },
     "execution_count": 82,
     "metadata": {},
     "output_type": "execute_result"
    },
    {
     "data": {
      "image/png": "[encoded data removed]",
      "text/plain": [
       "<Figure size 432x288 with 1 Axes>"
      ]
     },
     "metadata": {},
     "output_type": "display_data"
    }
   ],
   "source": [
    "plt.plot(x, np.sin(x) + x )"
   ]
  },
  {
   "cell_type": "code",
   "execution_count": 84,
   "metadata": {},
   "outputs": [
    {
     "data": {
      "text/plain": [
       "[<matplotlib.lines.Line2D at 0x10e3e05c0>]"
      ]
     },
     "execution_count": 84,
     "metadata": {},
     "output_type": "execute_result"
    },
    {
     "data": {
      "image/png": "[encoded data removed]",
      "text/plain": [
       "<Figure size 432x288 with 1 Axes>"
      ]
     },
     "metadata": {},
     "output_type": "display_data"
    }
   ],
   "source": [
    "plt.plot(x, np.sin(x) + x )\n",
    "plt.plot(x, np.cos(x) )"
   ]
  },
  {
   "cell_type": "markdown",
   "metadata": {},
   "source": [
    "## Array 快篩法"
   ]
  },
  {
   "cell_type": "code",
   "execution_count": 85,
   "metadata": {},
   "outputs": [],
   "source": [
    "L = np.array([3, -2, 4, -5, 333, -555, -60])"
   ]
  },
  {
   "cell_type": "code",
   "execution_count": 86,
   "metadata": {},
   "outputs": [
    {
     "data": {
      "text/plain": [
       "array([False,  True, False,  True, False,  True,  True])"
      ]
     },
     "execution_count": 86,
     "metadata": {},
     "output_type": "execute_result"
    }
   ],
   "source": [
    "L < 0"
   ]
  },
  {
   "cell_type": "code",
   "execution_count": 87,
   "metadata": {},
   "outputs": [
    {
     "data": {
      "text/plain": [
       "3"
      ]
     },
     "execution_count": 87,
     "metadata": {},
     "output_type": "execute_result"
    }
   ],
   "source": [
    "L[0]"
   ]
  },
  {
   "cell_type": "code",
   "execution_count": 88,
   "metadata": {},
   "outputs": [
    {
     "data": {
      "text/plain": [
       "array([ 4, -5])"
      ]
     },
     "execution_count": 88,
     "metadata": {},
     "output_type": "execute_result"
    }
   ],
   "source": [
    "L[2:4]"
   ]
  },
  {
   "cell_type": "markdown",
   "metadata": {},
   "source": [
    "語法：L[條件]"
   ]
  },
  {
   "cell_type": "code",
   "execution_count": 89,
   "metadata": {},
   "outputs": [
    {
     "data": {
      "text/plain": [
       "array([  -2,   -5, -555,  -60])"
      ]
     },
     "execution_count": 89,
     "metadata": {},
     "output_type": "execute_result"
    }
   ],
   "source": [
    "L[L<0]"
   ]
  },
  {
   "cell_type": "code",
   "execution_count": 90,
   "metadata": {},
   "outputs": [
    {
     "data": {
      "text/plain": [
       "[<matplotlib.lines.Line2D at 0x116ac2390>]"
      ]
     },
     "execution_count": 90,
     "metadata": {},
     "output_type": "execute_result"
    },
    {
     "data": {
      "image/png": "[encoded data removed]",
      "text/plain": [
       "<Figure size 432x288 with 1 Axes>"
      ]
     },
     "metadata": {},
     "output_type": "display_data"
    }
   ],
   "source": [
    "x = np.linspace(-5, 5, 100)\n",
    "y = np.sinc(x)\n",
    "plt.plot(x, y)"
   ]
  },
  {
   "cell_type": "code",
   "execution_count": 93,
   "metadata": {},
   "outputs": [
    {
     "data": {
      "text/plain": [
       "[<matplotlib.lines.Line2D at 0x1171e3908>]"
      ]
     },
     "execution_count": 93,
     "metadata": {},
     "output_type": "execute_result"
    },
    {
     "data": {
      "image/png": "[encoded data removed]",
      "text/plain": [
       "<Figure size 432x288 with 1 Axes>"
      ]
     },
     "metadata": {},
     "output_type": "display_data"
    }
   ],
   "source": [
    "plt.plot(x,y)\n",
    "plt.plot(x[y>0], y[y>0], 'o')"
   ]
  },
  {
   "cell_type": "markdown",
   "metadata": {},
   "source": [
    "len 表示字串長度"
   ]
  },
  {
   "cell_type": "code",
   "execution_count": 94,
   "metadata": {},
   "outputs": [
    {
     "data": {
      "text/plain": [
       "100"
      ]
     },
     "execution_count": 94,
     "metadata": {},
     "output_type": "execute_result"
    }
   ],
   "source": [
    "len(x)"
   ]
  },
  {
   "cell_type": "code",
   "execution_count": 96,
   "metadata": {},
   "outputs": [
    {
     "data": {
      "text/plain": [
       "17"
      ]
     },
     "execution_count": 96,
     "metadata": {},
     "output_type": "execute_result"
    }
   ],
   "source": [
    "a = \"我愛HOWHOW，HOWHOW愛我\"\n",
    "a_list = list(a)\n",
    "len(a)\n",
    "len(a_list)"
   ]
  },
  {
   "cell_type": "code",
   "execution_count": 99,
   "metadata": {},
   "outputs": [
    {
     "name": "stdout",
     "output_type": "stream",
     "text": [
      "i= 0 字串： 我\n",
      "i= 1 字串： 愛\n",
      "i= 2 字串： H\n",
      "i= 3 字串： O\n",
      "i= 4 字串： W\n",
      "i= 5 字串： H\n",
      "i= 6 字串： O\n",
      "i= 7 字串： W\n",
      "i= 8 字串： ，\n",
      "i= 9 字串： H\n",
      "i= 10 字串： O\n",
      "i= 11 字串： W\n",
      "i= 12 字串： H\n",
      "i= 13 字串： O\n",
      "i= 14 字串： W\n",
      "i= 15 字串： 愛\n",
      "i= 16 字串： 我\n"
     ]
    }
   ],
   "source": [
    "for i in range(len(a)):\n",
    "    print( \"i=\", i, \"字串：\", a[i] )"
   ]
  },
  {
   "cell_type": "code",
   "execution_count": 105,
   "metadata": {},
   "outputs": [
    {
     "name": "stdout",
     "output_type": "stream",
     "text": [
      "i = 0 字串：我\n",
      "i = 1 字串：愛\n",
      "i = 2 字串：H\n",
      "i = 3 字串：O\n",
      "i = 4 字串：W\n",
      "i = 5 字串：H\n",
      "i = 6 字串：O\n",
      "i = 7 字串：W\n",
      "i = 8 字串：，\n",
      "i = 9 字串：H\n",
      "i = 10 字串：O\n",
      "i = 11 字串：W\n",
      "i = 12 字串：H\n",
      "i = 13 字串：O\n",
      "i = 14 字串：W\n",
      "i = 15 字串：愛\n",
      "i = 16 字串：我\n"
     ]
    }
   ],
   "source": [
    "for i in range(len(a_list)):\n",
    "    print( \"i = {} \" .format(i) + \"字串：\" + a_list[i] )"
   ]
  },
  {
   "cell_type": "code",
   "execution_count": 106,
   "metadata": {},
   "outputs": [],
   "source": [
    "map?"
   ]
  },
  {
   "cell_type": "code",
   "execution_count": null,
   "metadata": {},
   "outputs": [],
   "source": []
  }
 ],
 "metadata": {
  "kernelspec": {
   "display_name": "Python 3",
   "language": "python",
   "name": "python3"
  },
  "language_info": {
   "codemirror_mode": {
    "name": "ipython",
    "version": 3
   },
   "file_extension": ".py",
   "mimetype": "text/x-python",
   "name": "python",
   "nbconvert_exporter": "python",
   "pygments_lexer": "ipython3",
   "version": "3.5.5"
  }
 },
 "nbformat": 4,
 "nbformat_minor": 2
}
