{
 "cells": [
  {
   "cell_type": "markdown",
   "metadata": {},
   "source": [
    " # 利用OCR套件，將圖片轉成純文字檔，可再經由excel 將純文字檔轉成表格\n"
   ]
  },
  {
   "cell_type": "markdown",
   "metadata": {},
   "source": [
    "## 載入OCR 套件（需裝好pytesseract套件）"
   ]
  },
  {
   "cell_type": "code",
   "execution_count": 1,
   "metadata": {},
   "outputs": [],
   "source": [
    "try:\n",
    "    import Image\n",
    "except ImportError:\n",
    "    from PIL import Image\n",
    "import pytesseract"
   ]
  },
  {
   "cell_type": "markdown",
   "metadata": {},
   "source": [
    "#### 如果安裝有問題，有可能是路徑的問題"
   ]
  },
  {
   "cell_type": "markdown",
   "metadata": {},
   "source": [
    "### 利用pytesseract 來轉成文字檔"
   ]
  },
  {
   "cell_type": "code",
   "execution_count": 2,
   "metadata": {
    "scrolled": true
   },
   "outputs": [
    {
     "name": "stdout",
     "output_type": "stream",
     "text": [
      "742\n",
      "\n",
      "FAMILY l. CLOSTRIDIACEAE\n",
      "\n",
      "TABLE 142. Characteristics of the species of the genus Clostridiurrt‘\n",
      "\n",
      " \n",
      "\n",
      " \n",
      "\n",
      "E\n",
      "B\n",
      "\n",
      "E; 3 c E a g '3 g : : § § % E\n",
      "\n",
      "Q a B. -m \"a a 3 cm A *7 :5 L; L; 3 tr 7.:\n",
      "Chzu‘actcn'stic L5 1.5 U U U U U U U U U L3 L3 U U U\n",
      "3 . ) b A v? A\n",
      "[roducts from I YG g, 3 E (:1 :2 Q 2' a Q a m 3 a Q N\n",
      "\n",
      "éiiééi—EEE‘ESEEESE\n",
      "\n",
      "E 4 < E :1 < < m < < < < E\n",
      "\n",
      ":1\n",
      "\n",
      "Motility i + + + + + + + i + + + 7 7 + +\n",
      "H3 produced 4 + 4 4 NT + + + 4 + 4 + 4 NT +\n",
      "Indole produced + 7 7 7 NT NT 7 NT 7 NT 7 7 7 7\n",
      "Lecithinase produced — NT — — NT NT NT NT — NT — NT — — — —\n",
      "Lipase produced 7 NT 7 NT NT NT NT 7 NT + NT 7 7 7 NT\n",
      "Esculin hydrolyzed + + + + + + NT + + N'I‘ + N'I‘ + + + +\n",
      "Starch hydrolyzed + NT + i — + NT + + — + — — + — —\n",
      "Nitrate reduced 7 NT 7 7 NT 7 NT 7/+ 7 + NT d NT 7 7\n",
      "Substrate utlized and/or arid produredfrom:\n",
      "Amygdalin i + 7w —/+ + + NT NT (1 NT — — + NT NT +\n",
      "Arabinose i + 7w i w + 7 7 7 NT w NT 7 7 NT 7\n",
      "Ccllobiosc + + d + + + + + + + + + + + + +\n",
      "Fructose + NT w+ + NT NT NT + + + + + + + + +\n",
      "Galactose + NT + + + NT NT NT + NT w 7 + + + +\n",
      "Glycogen + 7 d + + NF NT 1 NT w NT 7 NF NT 7\n",
      "Inositol NT 7 + NT + NT NT 7 NT NT 7 NT NT\n",
      "Inulin 7/+ +/7 NY d NT 7/+ NF NT 7 NT 7 NT 7 NT NT 7\n",
      "l uclose + + —/+ + w + — — + + + —/+ + + — —\n",
      "Maltese + + +w + NT + — + + + + — + + + +\n",
      "Mannitol 7/+ 7/+ d + 7/+ + 7 7 NT 7 7 7 + + 7\n",
      "Mannose + NT d + w + + + + + w — + + + +\n",
      "Melezilose 7/+ 7 7/+ w 7 NT NT 7 NT 7 NT 7 7 NT 7\n",
      "Melibiose + + 7w d + + NT NT 7 NT w 7 7 + NT NT\n",
      "Raffinose + + 7w 2 7 + 7 7 7 NT + NT 7 + + 7\n",
      "Rhamnose 7 7 7/+ NT 7 NT NT 7 7 7 7 7 7 7 7\n",
      "Ribose + w 7w 7/+ w w N1“ N1“ w7 NT 7 NY d + 7 7\n",
      "Salicin + + t —/+ + + NT + + NT w + + + + +\n",
      "Sorbilol 7 7 7/+ w 7 NT 7 7 NT 7 NT 7 7 7 +\n",
      "Starch + + d i — + NT + + — w — — + — +\n",
      "Sucrose + NT + + NT NT NT NT + + + + + + + +\n",
      "Trehalose + + 7/+ i + + NT + 7/+ NT 7 7 + + NT +\n",
      "Xylosc + NT (1 + + NT + — — + — + — + + —\n",
      "Milk reaction c + c c 7 c NT NT c NT c NT c 7 NT NT\n",
      "Meal digested 7 NT 7 NT NT NT NT NT NT 7 NT NT 7 NT 7\n",
      "\n",
      " \n",
      "\n",
      "(continued)\n"
     ]
    }
   ],
   "source": [
    "print(pytesseract.image_to_string(Image.open('Bergey_s.Manual.[Vol.3].The.Firmicutes-page44-1.png')))"
   ]
  },
  {
   "cell_type": "markdown",
   "metadata": {},
   "source": [
    "## 或是，利用cv2套件讀圖片，再利用pytesseract套件轉成文字檔"
   ]
  },
  {
   "cell_type": "code",
   "execution_count": 3,
   "metadata": {},
   "outputs": [],
   "source": [
    "import cv2"
   ]
  },
  {
   "cell_type": "code",
   "execution_count": 4,
   "metadata": {
    "scrolled": true
   },
   "outputs": [
    {
     "name": "stdout",
     "output_type": "stream",
     "text": [
      "742\n",
      "\n",
      "FAMILY l. CLOSTRIDIACEAE\n",
      "\n",
      "TABLE 142. Characteristics of the species of the genus Clostridiurrt‘\n",
      "\n",
      " \n",
      "\n",
      " \n",
      "\n",
      "E\n",
      "B\n",
      "\n",
      "E; 3 c E a g '3 g : : § § % E\n",
      "\n",
      "Q a B. -m \"a a 3 cm A *7 :5 L; L; 3 tr 7.:\n",
      "Chzu‘actcn'stic L5 1.5 U U U U U U U U U L3 L3 U U U\n",
      "3 . ) b A v? A\n",
      "[roducts from I YG g, 3 E (:1 :2 Q 2' a Q a m 3 a Q N\n",
      "\n",
      "éiiééi—EEE‘ESEEESE\n",
      "\n",
      "E 4 < E :1 < < m < < < < E\n",
      "\n",
      ":1\n",
      "\n",
      "Motility i + + + + + + + i + + + 7 7 + +\n",
      "H3 produced 4 + 4 4 NT + + + 4 + 4 + 4 NT +\n",
      "Indole produced + 7 7 7 NT NT 7 NT 7 NT 7 7 7 7\n",
      "Lecithinase produced — NT — — NT NT NT NT — NT — NT — — — —\n",
      "Lipase produced 7 NT 7 NT NT NT NT 7 NT + NT 7 7 7 NT\n",
      "Esculin hydrolyzed + + + + + + NT + + N'I‘ + N'I‘ + + + +\n",
      "Starch hydrolyzed + NT + i — + NT + + — + — — + — —\n",
      "Nitrate reduced 7 NT 7 7 NT 7 NT 7/+ 7 + NT d NT 7 7\n",
      "Substrate utlized and/or arid produredfrom:\n",
      "Amygdalin i + 7w —/+ + + NT NT (1 NT — — + NT NT +\n",
      "Arabinose i + 7w i w + 7 7 7 NT w NT 7 7 NT 7\n",
      "Ccllobiosc + + d + + + + + + + + + + + + +\n",
      "Fructose + NT w+ + NT NT NT + + + + + + + + +\n",
      "Galactose + NT + + + NT NT NT + NT w 7 + + + +\n",
      "Glycogen + 7 d + + NF NT 1 NT w NT 7 NF NT 7\n",
      "Inositol NT 7 + NT + NT NT 7 NT NT 7 NT NT\n",
      "Inulin 7/+ +/7 NY d NT 7/+ NF NT 7 NT 7 NT 7 NT NT 7\n",
      "l uclose + + —/+ + w + — — + + + —/+ + + — —\n",
      "Maltese + + +w + NT + — + + + + — + + + +\n",
      "Mannitol 7/+ 7/+ d + 7/+ + 7 7 NT 7 7 7 + + 7\n",
      "Mannose + NT d + w + + + + + w — + + + +\n",
      "Melezilose 7/+ 7 7/+ w 7 NT NT 7 NT 7 NT 7 7 NT 7\n",
      "Melibiose + + 7w d + + NT NT 7 NT w 7 7 + NT NT\n",
      "Raffinose + + 7w 2 7 + 7 7 7 NT + NT 7 + + 7\n",
      "Rhamnose 7 7 7/+ NT 7 NT NT 7 7 7 7 7 7 7 7\n",
      "Ribose + w 7w 7/+ w w N1“ N1“ w7 NT 7 NY d + 7 7\n",
      "Salicin + + t —/+ + + NT + + NT w + + + + +\n",
      "Sorbilol 7 7 7/+ w 7 NT 7 7 NT 7 NT 7 7 7 +\n",
      "Starch + + d i — + NT + + — w — — + — +\n",
      "Sucrose + NT + + NT NT NT NT + + + + + + + +\n",
      "Trehalose + + 7/+ i + + NT + 7/+ NT 7 7 + + NT +\n",
      "Xylosc + NT (1 + + NT + — — + — + — + + —\n",
      "Milk reaction c + c c 7 c NT NT c NT c NT c 7 NT NT\n",
      "Meal digested 7 NT 7 NT NT NT NT NT NT 7 NT NT 7 NT 7\n",
      "\n",
      " \n",
      "\n",
      "(continued)\n"
     ]
    }
   ],
   "source": [
    "img = cv2.imread(r'/Users/yuyuan/Desktop/summer_intern/Bergey_s.Manual.[Vol.3].The.Firmicutes-page44-1.png')\n",
    "print(pytesseract.image_to_string(img))"
   ]
  },
  {
   "cell_type": "markdown",
   "metadata": {},
   "source": [
    "## 寫入TxT 檔"
   ]
  },
  {
   "cell_type": "code",
   "execution_count": 5,
   "metadata": {},
   "outputs": [],
   "source": [
    "img_string = pytesseract.image_to_string(img)"
   ]
  },
  {
   "cell_type": "code",
   "execution_count": 6,
   "metadata": {},
   "outputs": [],
   "source": [
    "# 寫入txt檔\n",
    "import os\n",
    "# 檔案名稱（沒有檔案的話，會直接建一個），'a' 是add，encoding是編碼，在excel 匯入時要記得選好\n",
    "with open('Amaz.txt', 'a' , encoding='UTF-8') as f:\n",
    "    f.write(img_string + os.linesep)"
   ]
  },
  {
   "cell_type": "markdown",
   "metadata": {},
   "source": [
    "## 安裝有問題時，設路徑的方法"
   ]
  },
  {
   "cell_type": "code",
   "execution_count": null,
   "metadata": {},
   "outputs": [],
   "source": [
    "# 方法一 ‘放路徑’\n",
    "pytesseract.pytesseract.tesseract_cmd = r'/Users/yuyuan/anaconda3/lib/python3.5/site-packages/'"
   ]
  },
  {
   "cell_type": "code",
   "execution_count": null,
   "metadata": {},
   "outputs": [],
   "source": [
    "# 方法二 \"放路徑\" \n",
    "import sys\n",
    "sys.path.append(\"/Users/yuyuan/anaconda3/lib/python3.5/site-packages/tesseract/\")"
   ]
  },
  {
   "cell_type": "markdown",
   "metadata": {},
   "source": [
    "### 參考資料\n",
    "https://www.pyimagesearch.com/2017/07/10/using-tesseract-ocr-python/\n",
    "https://www.programcreek.com/python/example/104330/pytesseract.image_to_string\n"
   ]
  },
  {
   "cell_type": "markdown",
   "metadata": {},
   "source": [
    "## 把PDF轉成PNG"
   ]
  },
  {
   "cell_type": "code",
   "execution_count": 1,
   "metadata": {},
   "outputs": [],
   "source": [
    "# windows\n",
    "# using modula \"PythonMagick\" \n",
    "\n",
    "\n",
    "\n",
    "# mac \n",
    "# using modula \"Wand\"\n",
    "\n",
    "# from __future__ import print_function\n",
    "# from wand.image import Image\n",
    "# with Image(filename='source.pdf') as img:\n",
    "#     print('pages = ', len(img.sequence))\n",
    " \n",
    "#     with img.convert('png') as converted:\n",
    "#         converted.save(filename='pyout/page.png')"
   ]
  },
  {
   "cell_type": "code",
   "execution_count": 2,
   "metadata": {},
   "outputs": [],
   "source": [
    "# mac\n",
    "# using terminal\n",
    "\n",
    "# convert -density 300 source.pdf -quality 100 output.png\n",
    "# -density: dpi\n",
    "# -quality: compressibility"
   ]
  },
  {
   "cell_type": "markdown",
   "metadata": {},
   "source": [
    "## 實作BG圖表"
   ]
  },
  {
   "cell_type": "code",
   "execution_count": 1,
   "metadata": {},
   "outputs": [],
   "source": [
    "# 讀取所需module\n",
    "try:\n",
    "    import Image\n",
    "except ImportError:\n",
    "    from PIL import Image\n",
    "import pytesseract\n",
    "import os"
   ]
  },
  {
   "cell_type": "code",
   "execution_count": 7,
   "metadata": {},
   "outputs": [
    {
     "name": "stdout",
     "output_type": "stream",
     "text": [
      "GENUS |. BACILLUS\n",
      "\n",
      "TABLE 3. Differential characteristics of the species of the genus Bacillusa'“\n",
      "\n",
      " \n",
      "\n",
      "c\n",
      "\n",
      "a E E\n",
      ".< ,E s .2 9 3 :7 E E -: T‘ % :‘ 3 E: a a g\n",
      "E 3 S 3 i ’s S 2 ‘2 § § § '~: % E S *2 s:\n",
      "E “5 § 3 E a E S § 33 g S E 3 E E E 3\n",
      "=0 92 97.“ 92 9Q 9Q 9Q m l.\" :1 9&3 =0 “7‘. 5‘: 3Q 9Q 9Q 9Q\n",
      "Characten' slic ‘I (‘i r\"; ‘5 l“. 0' l\\' 05 0\" E :1 g Q <_r ﬂ )3 I: E\n",
      "Pigmented (7(110I1i8.Y.‘\n",
      "\n",
      "Yellow7pi nk71‘ed 7h — — — 1‘ — 7 +‘“ 7“ 7 7 7 7 7 7 7 +11 711\n",
      "\n",
      "Dark brown/black 7h — — — — — 7 7 7 7 +11 7 7 _ 7 _ _ _\n",
      "Motility + + + + — + — + + + + — + + + +\n",
      "Cell diameter >170 um — — — — — — + — 7 7 7 7 v 7 d + 7 +\n",
      "Sparefbmuzrion: + + + + + + + + + + + + + + + + + +\n",
      "\n",
      "Ellipsoidal + + + + + + + + + + + + + + + + +\n",
      "\n",
      "Cylindrical v + 7 7 7 7 7 7 7 _ _ _ _ _ _ _ d\n",
      "\n",
      "Spherical 7 7 7 7 7 7 7 7 7 7 7 7 7 d 7 7 7\n",
      "\n",
      "Borne terminally 7 + 7 7 + 7 7 7 7 7 7 v 7 7 7 7 7\n",
      "\n",
      "Swell sporangia — + — — — — + — — + 7 + + 7 7 7\n",
      "Puruspora] crystals 7 7 7 7 7 7 7 7 7 7 7 7 7 7 7 7 7 7\n",
      "Catalase + — + w + + + + + — + + d + +\n",
      "Aerobic growth + + + + + + + + — + + + + + + + + +\n",
      "Anaerobic growth 7 7 7 7 7 + 7 + 7 _ _ + + + _ +\n",
      "Voges-Proskauer + + 11g — + + ng — + — — 7 7 7 +\n",
      "A(tiu’from:\n",
      "\n",
      "L-Arabinose + 11g d 7 7 7 7 7 7 7\n",
      "\n",
      "D-Glucuse + ng + + + + 7 7 7 + + 7 7 +\n",
      "\n",
      "Glycogen + 7 ng + + + 7 + 7 7 +\n",
      "\n",
      "ILMannitol + + ng + + — 7 7 + 7 7 + 7 _ _\n",
      "\n",
      "D -Mannose + + 11g d — 7 7 d 7 7 + 7 _ _\n",
      "\n",
      "Methyl B-xyloside 7 7 ng 7 7 7 7 7 7 7 7 7\n",
      "\n",
      "Salicin + + ng + 7 7 + _ _ W _ _ d1\n",
      "\n",
      "Starch + + ng + + + — + d/w — — +J\n",
      "\n",
      "D-Xylose + + ng + d 7 7 7 + 7 7 7 7 7 7 7\n",
      "Hydrolysis of}\n",
      "\n",
      "Casein + + + + — + + + + + + — + +\n",
      "\n",
      "Gelatin + + + + + + + — + — + + — + +\n",
      "\n",
      "Starch + + + + + + + + w + 7 7 7 + +\n",
      "Utilization of}\n",
      "\n",
      "Citrate + + — — + di + + + + 7 7 7 +\n",
      "\n",
      "Propionate — 7 7 7 7 7 _ + _\n",
      "\n",
      "Egg yolk reaction — 7 7 + 7 7 +\n",
      "Nitrate reduction + — + — w + + + w + + 7 7 + + _ d\n",
      "Growth at pH:\n",
      "\n",
      "5 — — — — — — — d —\n",
      "\n",
      "6 + — — — — + + — + + + w + + +\n",
      "\n",
      "7 + — — + + + + — + + + + +‘1 + + + +\n",
      "\n",
      "8 + + + + + 7 + w + 4.“ +\n",
      "\n",
      "9 + + + + — — + + +‘1 +\n",
      "\n",
      "10 — + d + — — + — d\n",
      "Growth in NaCl:\n",
      "\n",
      "2% + + + + + + + + 7 7 + w + +\n",
      "\n",
      "5% + + + + 7 + + + + + 7 + 7 7 + +\n",
      "\n",
      "7% + — + + + + + + — + — — + d\n",
      "\n",
      "10% d 7 + 7 d 7 + + 7 7 7 7\n",
      "NaC] requirad fur growth 7 + + 7 7 7 7 +‘ + 7 7 7 7 7 7 7 7 7\n",
      "Growth at:\n",
      "\n",
      "5 °C d — — — 7 7 7 d 7 _\n",
      "\n",
      "10 °C d — + + + — — + + — 7 d\n",
      "\n",
      "20 °C + — + + + + + + + + + + + + +\n",
      "\n",
      "30 °C + — + + + + + + + + + + + + + + +\n",
      "\n",
      "40 °C + + + + + + + + + + + + + + d + +\n",
      "\n",
      "50 °C (1 + — — — + — — 7 + 7 + 7 + _\n",
      "\n",
      "55 \"C d + — — — 7 7 d 7 7 _ d _\n",
      "\n",
      "65 °C — + — — — — — — — — — — —\n",
      "Growth with lysozymc present (1 — + 7 7 7 7 7\n",
      "Respiratory growth with As(V) +\n",
      "Respiratory growth with Sc(1V) or Sc(Vl) +\n",
      "Aulotrophic with H2 + CO; or CO — 7 7 7 7 7 7 7 _ 7 _ _\n",
      "Degradation of tyrosine — 7 7 7 7 7 + _ +\n",
      "\n",
      "Deamination of phenylalanine — — — 7 7 7 7 _ _\n",
      "Allanloin or uratc required 7 7 7 7 7 7 7 7 7 7 7 _ _ _ _ _ _ _\n",
      "\n",
      "(continued)\n"
     ]
    }
   ],
   "source": [
    "#單一個PNG寫入\n",
    "img_string = pytesseract.image_to_string(Image.open('/Users/yuyuan/Desktop/summer_intern/working_data/image_data/png/Bergey_Page99_300dpi.png'))\n",
    "print(img_string)"
   ]
  },
  {
   "cell_type": "code",
   "execution_count": 8,
   "metadata": {},
   "outputs": [
    {
     "name": "stdout",
     "output_type": "stream",
     "text": [
      "Help on function image_to_string in module pytesseract.pytesseract:\n",
      "\n",
      "image_to_string(image, lang=None, config='', nice=0, boxes=False, output_type='string')\n",
      "    Returns the result of a Tesseract OCR run on the provided image to string\n",
      "\n"
     ]
    }
   ],
   "source": [
    "help(pytesseract.image_to_string)"
   ]
  },
  {
   "cell_type": "code",
   "execution_count": 9,
   "metadata": {},
   "outputs": [],
   "source": [
    "?pytesseract.image_to_string"
   ]
  },
  {
   "cell_type": "code",
   "execution_count": 10,
   "metadata": {},
   "outputs": [
    {
     "data": {
      "text/plain": [
       "'\\n    Returns the result of a Tesseract OCR run on the provided image to string\\n    '"
      ]
     },
     "execution_count": 10,
     "metadata": {},
     "output_type": "execute_result"
    }
   ],
   "source": [
    "pytesseract.image_to_string.__doc__"
   ]
  },
  {
   "cell_type": "code",
   "execution_count": 5,
   "metadata": {},
   "outputs": [
    {
     "data": {
      "text/plain": [
       "str"
      ]
     },
     "execution_count": 5,
     "metadata": {},
     "output_type": "execute_result"
    }
   ],
   "source": [
    "# 檢驗資料類型\n",
    "type(img_string)"
   ]
  },
  {
   "cell_type": "code",
   "execution_count": null,
   "metadata": {},
   "outputs": [],
   "source": []
  },
  {
   "cell_type": "code",
   "execution_count": 42,
   "metadata": {},
   "outputs": [
    {
     "name": "stdout",
     "output_type": "stream",
     "text": [
      "[99, 100, 101, 102, 103, 105, 106, 107, 108, 109, 110, 111, 112, 113, 114, 768, 769, 770, 771, 772]\n"
     ]
    }
   ],
   "source": [
    "# 設定要讀入頁數\n",
    "num_list = list(range(99,104))+ list(range(105,115)) + list(range(768,773))\n",
    "print(num_list)"
   ]
  },
  {
   "cell_type": "code",
   "execution_count": 43,
   "metadata": {},
   "outputs": [],
   "source": [
    "# 利用for loop 一次轉完PNG_to_TXT\n",
    "for i in num_list:\n",
    "    img_string = pytesseract.image_to_string(Image.open('/Users/yuyuan/Desktop/summer_intern/working_data/image/png/Bergey_Page{}_300dpi.png'.format(i)))\n",
    "    with open('/Users/yuyuan/Desktop/summer_intern/working_data/image/txt/Bergey_page{}_300dpi.txt'.format(i), 'a' , encoding='UTF-8') as f:\n",
    "        f.write(img_string + os.linesep)"
   ]
  },
  {
   "cell_type": "markdown",
   "metadata": {},
   "source": [
    "#### test "
   ]
  },
  {
   "cell_type": "code",
   "execution_count": 30,
   "metadata": {},
   "outputs": [
    {
     "name": "stdout",
     "output_type": "stream",
     "text": [
      "Hello, 102 times \n",
      "Hello, 103 times \n",
      "Hello, 104 times \n",
      "Hello, 105 times \n",
      "Hello, 106 times \n",
      "Hello, 107 times \n",
      "Hello, 108 times \n",
      "Hello, 109 times \n",
      "Hello, 110 times \n",
      "Hello, 111 times \n",
      "Hello, 112 times \n",
      "Hello, 113 times \n",
      "Hello, 114 times \n"
     ]
    }
   ],
   "source": [
    "# 迴圈練習測試\n",
    "for i in range(44,115):\n",
    "    print(\"Hello, {} times \".format(i))"
   ]
  },
  {
   "cell_type": "code",
   "execution_count": null,
   "metadata": {},
   "outputs": [],
   "source": []
  }
 ],
 "metadata": {
  "kernelspec": {
   "display_name": "Python 3",
   "language": "python",
   "name": "python3"
  },
  "language_info": {
   "codemirror_mode": {
    "name": "ipython",
    "version": 3
   },
   "file_extension": ".py",
   "mimetype": "text/x-python",
   "name": "python",
   "nbconvert_exporter": "python",
   "pygments_lexer": "ipython3",
   "version": "3.5.5"
  }
 },
 "nbformat": 4,
 "nbformat_minor": 2
}
