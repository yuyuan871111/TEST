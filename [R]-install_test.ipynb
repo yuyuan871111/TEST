{
 "cells": [
  {
   "cell_type": "code",
   "execution_count": 1,
   "metadata": {},
   "outputs": [
    {
     "name": "stderr",
     "output_type": "stream",
     "text": [
      "also installing the dependency ‘png’\n",
      "\n",
      "Updating HTML index of packages in '.Library'\n",
      "Making 'packages.html' ... done\n"
     ]
    }
   ],
   "source": [
    "install.packages( \"tabulizer\" )"
   ]
  },
  {
   "cell_type": "code",
   "execution_count": 5,
   "metadata": {},
   "outputs": [],
   "source": [
    "library( \"tabulizer\" )"
   ]
  },
  {
   "cell_type": "code",
   "execution_count": 4,
   "metadata": {},
   "outputs": [
    {
     "ename": "ERROR",
     "evalue": "Error in .jfindClass(as.character(class)): class not found\n",
     "output_type": "error",
     "traceback": [
      "Error in .jfindClass(as.character(class)): class not found\nTraceback:\n",
      "1. extract_tables(sos_url)",
      "2. new(J(\"technology.tabula.ObjectExtractor\"), pdfDocument)",
      "3. J(\"technology.tabula.ObjectExtractor\")",
      "4. jclassName(class)",
      "5. .jfindClass(as.character(class))",
      "6. stop(\"class not found\")"
     ]
    }
   ],
   "source": [
    "sos_url <- \"http://elections.cdn.sos.ca.gov/sov/2016-general/sov/04-historical-voter-reg-participation.pdf\"\n",
    "tab1 <- extract_tables(sos_url)\n",
    "tab1\n",
    "str(tab1)"
   ]
  },
  {
   "cell_type": "code",
   "execution_count": 6,
   "metadata": {},
   "outputs": [
    {
     "name": "stderr",
     "output_type": "stream",
     "text": [
      "Warning message in install.packages(\"git2r\"):\n",
      "“installation of package ‘git2r’ had non-zero exit status”Updating HTML index of packages in '.Library'\n",
      "Making 'packages.html' ... done\n"
     ]
    }
   ],
   "source": [
    "install.packages( \"git2r\" )"
   ]
  },
  {
   "cell_type": "code",
   "execution_count": null,
   "metadata": {},
   "outputs": [],
   "source": []
  }
 ],
 "metadata": {
  "kernelspec": {
   "display_name": "R",
   "language": "R",
   "name": "ir"
  },
  "language_info": {
   "codemirror_mode": "r",
   "file_extension": ".r",
   "mimetype": "text/x-r-source",
   "name": "R",
   "pygments_lexer": "r",
   "version": "3.4.3"
  }
 },
 "nbformat": 4,
 "nbformat_minor": 2
}
